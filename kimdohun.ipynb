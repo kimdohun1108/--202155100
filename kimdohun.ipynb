{
 "cells": [
  {
   "cell_type": "code",
   "execution_count": 1,
   "id": "55d81895-f232-48d0-9347-72828984c648",
   "metadata": {},
   "outputs": [],
   "source": [
    "from pyspark.sql import SparkSession\n",
    "from pyspark.sql.functions import udf"
   ]
  },
  {
   "cell_type": "code",
   "execution_count": 2,
   "id": "8763c273-8346-48f2-9bdc-65e24e075523",
   "metadata": {},
   "outputs": [],
   "source": [
    "spark = SparkSession.builder.getOrCreate()"
   ]
  },
  {
   "cell_type": "code",
   "execution_count": 3,
   "id": "ba2055a3-2f3e-40cb-ab8f-0aab0815d303",
   "metadata": {},
   "outputs": [],
   "source": [
    "data = [('안현',39),('김도훈',25),('박창수',24),('이준솔',23),('윤동주',25),('김태혁',21),('박진영',22),('서예진',22),('차정현',26),('한주헌',69)]"
   ]
  },
  {
   "cell_type": "code",
   "execution_count": 4,
   "id": "a0b6852f-b314-404f-a1f9-103e80f3c809",
   "metadata": {},
   "outputs": [],
   "source": [
    "df = spark.createDataFrame(data,['name','age'])"
   ]
  },
  {
   "cell_type": "code",
   "execution_count": 5,
   "id": "04d00b66-eab6-4c9a-b641-799032939431",
   "metadata": {},
   "outputs": [],
   "source": [
    "def age_category(age):\n",
    "    if age < 35:\n",
    "        return 'young'\n",
    "    elif age >= 35 and age <60:\n",
    "        return 'adult'\n",
    "    else:\n",
    "        return 'senior'"
   ]
  },
  {
   "cell_type": "code",
   "execution_count": 6,
   "id": "464c4868-1eef-4af0-9a57-b54f9ba6c38c",
   "metadata": {},
   "outputs": [],
   "source": [
    "age_category_udf = udf(age_category)"
   ]
  },
  {
   "cell_type": "code",
   "execution_count": 7,
   "id": "19c9d5e5-94ef-479d-ba17-1efc604dcd5e",
   "metadata": {},
   "outputs": [],
   "source": [
    "df = df.withColumn('age_category',age_category_udf(df['age']))"
   ]
  },
  {
   "cell_type": "code",
   "execution_count": 8,
   "id": "8601da60-8f7d-46f9-87fb-02101421388b",
   "metadata": {},
   "outputs": [
    {
     "name": "stdout",
     "output_type": "stream",
     "text": [
      "+------+---+------------+\n",
      "|  name|age|age_category|\n",
      "+------+---+------------+\n",
      "|  안현| 39|       adult|\n",
      "|김도훈| 25|       young|\n",
      "|박창수| 24|       young|\n",
      "|이준솔| 23|       young|\n",
      "|윤동주| 25|       young|\n",
      "|김태혁| 21|       young|\n",
      "|박진영| 22|       young|\n",
      "|서예진| 22|       young|\n",
      "|차정현| 26|       young|\n",
      "|한주헌| 69|      senior|\n",
      "+------+---+------------+\n",
      "\n"
     ]
    }
   ],
   "source": [
    "df.show()"
   ]
  }
 ],
 "metadata": {
  "kernelspec": {
   "display_name": "Python 3 (ipykernel)",
   "language": "python",
   "name": "python3"
  },
  "language_info": {
   "codemirror_mode": {
    "name": "ipython",
    "version": 3
   },
   "file_extension": ".py",
   "mimetype": "text/x-python",
   "name": "python",
   "nbconvert_exporter": "python",
   "pygments_lexer": "ipython3",
   "version": "3.9.13"
  }
 },
 "nbformat": 4,
 "nbformat_minor": 5
}
